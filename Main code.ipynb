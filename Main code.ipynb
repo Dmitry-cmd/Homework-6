{
 "cells": [
  {
   "cell_type": "code",
   "execution_count": 1,
   "metadata": {},
   "outputs": [
    {
     "name": "stdout",
     "output_type": "stream",
     "text": [
      "Всего предлагаемого товара: 426 ед.\n",
      "Количество товара в наличии: 353 ед.\n",
      "Самый дорогой товар это - Масло Liqui Moly TOP TEC 4600 5W-30 5л, его стоимость состовляет: 1623 грн.\n"
     ]
    }
   ],
   "source": [
    "The_number_of_headings = len(open('xxx.txt').readlines())\n",
    "in_stock = []\n",
    "tmp = []\n",
    "with open('xxx.txt', 'r', encoding = 'utf-8') as f:    \n",
    "    main_list = {i.split(\"|\")[0] : i.split(\"|\")[1:] for i in f.readlines()}\n",
    "    for key,value in main_list.items():\n",
    "        for i in value:\n",
    "            if 'В ' in i and 'Нет ' not in i :\n",
    "                in_stock.append(value)\n",
    "                \n",
    "    for key,value in main_list.items():\n",
    "        price_and_currency = value[-1].split()\n",
    "        price = price_and_currency[0]\n",
    "        value[-1] = int(price)\n",
    "    max_price = max(main_list.items(), key = lambda value: value[1][-1])\n",
    "    tmp.append(max_price[1])\n",
    "    \n",
    "    for i in tmp:\n",
    "        stuff_name = i[0]\n",
    "        presence = i[1]\n",
    "        stuff_price = i[2]\n",
    "        \n",
    "print(f'Всего предлагаемого товара: {The_number_of_headings} ед.')\n",
    "print('Количество товара в наличии:',(len(in_stock)),'ед.')\n",
    "print(f'Самый дорогой товар это - {stuff_name}, его стоимость состовляет: {stuff_price} грн.')"
   ]
  },
  {
   "cell_type": "code",
   "execution_count": 2,
   "metadata": {},
   "outputs": [
    {
     "name": "stdout",
     "output_type": "stream",
     "text": [
      "{'Артикуль': '7611', 'Наименование': 'Омыватель стекла летний (концентрат) яблоко 0.25л Liqui Moly', 'Наличие': 'В наличии', 'Цена': '196 грн\\n'}\n",
      "{'Артикуль': '36001', 'Наименование': 'Омыватель стекла летний аромат яблока 1л (концентрат) Liqui Moly', 'Наличие': 'В наличии', 'Цена': '73 грн\\n'}\n",
      "{'Артикуль': '8820', 'Наименование': 'Омыватель стекла летний аромат яблока 2л Liqui Moly', 'Наличие': 'В наличии', 'Цена': '85 грн\\n'}\n",
      "{'Артикуль': 'AFAM-007', 'Наименование': 'Освежитель воздуха Areon Mon Classic аромат яблока', 'Наличие': 'Нет в наличии', 'Цена': '17 грн\\n'}\n",
      "{'Артикуль': 'AFA-019', 'Наименование': 'Освежитель воздуха гелевый Areon аромат яблока', 'Наличие': 'В наличии', 'Цена': '35 грн\\n'}\n",
      "{'Артикуль': 'F07AP', 'Наименование': 'Освежитель воздуха ёлка (ароматизатор) Zollex аромат яблока', 'Наличие': 'Нет в наличии', 'Цена': '10 грн\\n'}\n"
     ]
    }
   ],
   "source": [
    "import pickle\n",
    "\n",
    "tmp_list = []\n",
    "\n",
    "with open('xxx.txt', 'r', encoding = 'utf-8') as f:\n",
    "    for i in f.readlines():\n",
    "        tmp = i.split('|')\n",
    "        main_list_1 ={'Артикуль':f'{tmp[0]}',\n",
    "                  'Наименование':f'{tmp[1]}',\n",
    "                  'Наличие':f'{tmp[2]}',\n",
    "                  'Цена':f'{tmp[3]}'}\n",
    "        tmp_list.append(main_list_1)\n",
    "    \n",
    "\n",
    "with open('tmp_list.pickle','wb') as try_1:\n",
    "    pickle.dump(tmp_list, try_1)\n",
    "\n",
    "with open('tmp_list.pickle','rb') as try_2:\n",
    "    new_dict_1 = pickle.load(try_2)\n",
    "    q = 'ябл'\n",
    "    for i in tmp_list:\n",
    "        for key,value in i.items():\n",
    "            if q in value:\n",
    "                print(i)"
   ]
  },
  {
   "cell_type": "code",
   "execution_count": 3,
   "metadata": {},
   "outputs": [
    {
     "name": "stdout",
     "output_type": "stream",
     "text": [
      "Введите артикуль: 3963\n",
      "{'Артикуль': '3963', 'Наименование': 'Очиститель двигателя (спрей) Liqui Moly 0.4л', 'Наличие': 'В наличии', 'Цена': '277 грн\\n'}\n"
     ]
    }
   ],
   "source": [
    "import pickle\n",
    "\n",
    "tmp_list = []\n",
    "\n",
    "with open('xxx.txt', 'r', encoding = 'utf-8') as f:\n",
    "    for i in f.readlines():\n",
    "        tmp = i.split('|')\n",
    "        main_list_1 ={'Артикуль':f'{tmp[0]}',\n",
    "                  'Наименование':f'{tmp[1]}',\n",
    "                  'Наличие':f'{tmp[2]}',\n",
    "                  'Цена':f'{tmp[3]}'}\n",
    "        tmp_list.append(main_list_1)\n",
    "    \n",
    "\n",
    "with open('tmp_list.pickle','wb') as try_1:\n",
    "    pickle.dump(tmp_list, try_1)\n",
    "\n",
    "with open('tmp_list.pickle','rb') as try_2:\n",
    "    new_dict_1 = pickle.load(try_2)\n",
    "    c = input('Введите артикуль: ')\n",
    "    for i in tmp_list:\n",
    "        for key,value in i.items():\n",
    "            if value == c:\n",
    "                print(i)"
   ]
  }
 ],
 "metadata": {
  "kernelspec": {
   "display_name": "Python 3",
   "language": "python",
   "name": "python3"
  },
  "language_info": {
   "codemirror_mode": {
    "name": "ipython",
    "version": 3
   },
   "file_extension": ".py",
   "mimetype": "text/x-python",
   "name": "python",
   "nbconvert_exporter": "python",
   "pygments_lexer": "ipython3",
   "version": "3.8.2"
  }
 },
 "nbformat": 4,
 "nbformat_minor": 4
}
